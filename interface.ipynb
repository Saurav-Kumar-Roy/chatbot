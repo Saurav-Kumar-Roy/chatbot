{
 "cells": [
  {
   "cell_type": "code",
   "execution_count": 1,
   "metadata": {},
   "outputs": [],
   "source": [
    "import nltk\n",
    "from nltk.stem import WordNetLemmatizer\n",
    "lemmatizer = WordNetLemmatizer()\n",
    "import pickle\n",
    "import numpy as np\n"
   ]
  },
  {
   "cell_type": "code",
   "execution_count": 2,
   "metadata": {},
   "outputs": [],
   "source": [
    "from keras.models import load_model\n",
    "model = load_model('chatbot_model.h5')\n",
    "import json\n",
    "import random\n",
    "intents = json.loads(open('intents.json').read())\n",
    "words = pickle.load(open('words.pkl','rb'))\n",
    "classes = pickle.load(open('classes.pkl','rb'))"
   ]
  },
  {
   "cell_type": "code",
   "execution_count": 3,
   "metadata": {},
   "outputs": [],
   "source": [
    "def clean_up_sentence(sentence):\n",
    "    sentence_words = nltk.word_tokenize(sentence)\n",
    "    sentence_words = [lemmatizer.lemmatize(word.lower()) for word in sentence_words]\n",
    "    return sentence_words"
   ]
  },
  {
   "cell_type": "code",
   "execution_count": 4,
   "metadata": {},
   "outputs": [],
   "source": [
    "def bow(sentence, words, show_details=True):\n",
    "    sentence_words = clean_up_sentence(sentence)\n",
    "    bag = [0]*len(words)  \n",
    "    for s in sentence_words:\n",
    "        for i,w in enumerate(words):\n",
    "            if w == s: \n",
    "                bag[i] = 1\n",
    "                if show_details:\n",
    "                    print (\"found in bag: %s\" % w)\n",
    "    return(np.array(bag))"
   ]
  },
  {
   "cell_type": "code",
   "execution_count": 5,
   "metadata": {},
   "outputs": [],
   "source": [
    "def predict_class(sentence, model):\n",
    "    p = bow(sentence, words,show_details=False)\n",
    "    res = model.predict(np.array([p]))[0]\n",
    "    ERROR_THRESHOLD = 0.25\n",
    "    results = [[i,r] for i,r in enumerate(res) if r>ERROR_THRESHOLD]\n",
    "    results.sort(key=lambda x: x[1], reverse=True)\n",
    "    return_list = []\n",
    "    for r in results:\n",
    "        return_list.append({\"intent\": classes[r[0]], \"probability\": str(r[1])})\n",
    "    return return_list"
   ]
  },
  {
   "cell_type": "code",
   "execution_count": 6,
   "metadata": {},
   "outputs": [],
   "source": [
    "def getResponse(ints, intents_json):\n",
    "    tag = ints[0]['intent']\n",
    "    list_of_intents = intents_json['intents']\n",
    "    for i in list_of_intents:\n",
    "        if(i['tag']== tag):\n",
    "            result = random.choice(i['responses'])\n",
    "            break\n",
    "    return result"
   ]
  },
  {
   "cell_type": "code",
   "execution_count": 7,
   "metadata": {},
   "outputs": [],
   "source": [
    "def chatbot_response(msg):\n",
    "    ints = predict_class(msg, model)\n",
    "    res = getResponse(ints, intents)\n",
    "    return res\n"
   ]
  },
  {
   "cell_type": "code",
   "execution_count": 8,
   "metadata": {},
   "outputs": [],
   "source": [
    "import webbrowser"
   ]
  },
  {
   "cell_type": "code",
   "execution_count": 9,
   "metadata": {},
   "outputs": [
    {
     "name": "stdout",
     "output_type": "stream",
     "text": [
      "1\n",
      "1/1 [==============================] - 0s 334ms/step\n",
      "1\n",
      "1\n",
      "1/1 [==============================] - 0s 25ms/step\n",
      "3\n",
      "1\n",
      "1/1 [==============================] - 0s 27ms/step\n",
      "1\n",
      "1\n",
      "1/1 [==============================] - 0s 26ms/step\n",
      "1\n"
     ]
    }
   ],
   "source": [
    "import tkinter\n",
    "from tkinter import *\n",
    "import webbrowser\n",
    "\n",
    "y=0\n",
    "l=66\n",
    "\n",
    "\n",
    "\n",
    "def adjust(s):\n",
    "    l = len(s)\n",
    "    line = l//38\n",
    "    line = line+1\n",
    "    for i in range(1,line):\n",
    "        s = s[:37*i]+'\\n'+s[37*i:]\n",
    "    return s,line\n",
    "\n",
    "def send():\n",
    "    \n",
    "    def go():\n",
    "        s = txt.get()\n",
    "        webbrowser.open_new(f\"https://www.google.com/maps/search/hospital+in+{s}\")\n",
    "        \n",
    "    msg = EntryBox.get(\"1.0\",'end-1c').strip()\n",
    "    EntryBox.delete(\"0.0\",END)\n",
    "\n",
    "    if msg != '':\n",
    "        global y\n",
    "        global l\n",
    "        \n",
    "        y=y+l\n",
    "        msg,length = adjust(msg)\n",
    "        print(length)\n",
    "        lb = Label(base,text=msg, bg=\"LightBlue3\",font=\"15\",justify=\"left\")\n",
    "        c.create_window(360,y,window=lb,anchor=\"ne\")\n",
    "    \n",
    "        res = chatbot_response(msg)\n",
    "        \n",
    "            \n",
    "        l=33*length\n",
    "        y = y+l\n",
    "        line = len(res)\n",
    "        line = (line//43) +1\n",
    "        lb2 =Label(base,text=res, bg=\"DarkOliveGreen3\",font=\"15\",justify=\"left\")\n",
    "        c.create_window(10,y,window=lb2,anchor=\"nw\")\n",
    "        print(line)\n",
    "        l=33*line\n",
    "        if res == \"Adverse drug\": \n",
    "            webbrowser.open_new(\"https://www.aafp.org/pubs/afp/issues/2003/1101/p1781.html\")\n",
    "        if res == \"hospital\" or res==\"pharmacy\":\n",
    "            newWindow = Toplevel(base)\n",
    "            lab = Label(newWindow,text=\"Enter your location: \").pack()\n",
    "            txt = Entry(newWindow,width = 20)\n",
    "            txt.pack()\n",
    "            btn = Button(newWindow,text=\"ok\",command=go).pack()\n",
    "            \n",
    "\n",
    "base = Tk()\n",
    "base.title(\"Hello\")\n",
    "base.geometry(\"400x515\")\n",
    "base.resizable(width=FALSE, height=TRUE)\n",
    "\n",
    "frame = Frame(base,width=400,height=500)\n",
    "frame.pack(expand=True, fill=BOTH)\n",
    "c = Canvas(frame, height=\"400\", width=\"400\",bg =\"#F0F0F8\",scrollregion=(0,0,0,7000))\n",
    "vertibar=Scrollbar(frame,orient=VERTICAL)\n",
    "vertibar.pack(side=RIGHT,fill=Y)\n",
    "vertibar.config(command=c.yview)\n",
    "c.config(width=400,height=400)\n",
    "c.config(yscrollcommand=vertibar.set)\n",
    "c.pack(expand=True,side=LEFT,fill=BOTH)\n",
    "lb = Label(c,text=\"hi. this is your personal health care support.\\nAsk what you need to know.\", bg=\"DarkOliveGreen3\",font=\"15\",justify=\"left\")\n",
    "c.create_window(10,10,window=lb,anchor=\"nw\")\n",
    "frame = Frame(base,width=400,height=500)\n",
    "frame.pack(expand=True, fill=BOTH)\n",
    "EntryBox = Text(frame, bd=0, bg=\"white\",width=\"80\", height=\"1\", font=\"Arial\",borderwidth=1, relief=\"solid\")\n",
    "SendButton = Button(frame, font=(\"Verdana\",12,'bold'), text=\"Send\", width=\"6\", height=\"1\",\n",
    "                    bd=0, bg=\"#32de97\", activebackground=\"#3c9d9b\",fg='#ffffff',\n",
    "                    command= send )\n",
    "EntryBox.place(x=6, y=30, height=70, width=300)\n",
    "SendButton.place(x=310, y=30, height=30)\n",
    "\n",
    "base.mainloop()\n"
   ]
  },
  {
   "cell_type": "code",
   "execution_count": 10,
   "metadata": {},
   "outputs": [
    {
     "data": {
      "text/plain": [
       "'\\nimport tkinter\\nfrom tkinter import *\\n\\ndef chatlogs():\\n    ChatLog.config(state=NORMAL)\\n    ChatLog.insert(END, \"Bot: Hi. I am Chatbot. Your Health care Partner. Ask What u want to know.\\n\\n\")\\n    ChatLog.config(state=DISABLED)\\n    ChatLog.yview(END)\\n\\n\\ndef send():\\n    msg = EntryBox.get(\"1.0\",\\'end-1c\\').strip()\\n    EntryBox.delete(\"0.0\",END)\\n\\n    if msg != \\'\\':\\n        ChatLog.config(state=NORMAL)\\n        ChatLog.insert(END, \"You: \" + msg + \\'\\n\\n\\')\\n        ChatLog.config(foreground=\"#442265\",font=(\"Verdana\", 12 ))\\n    \\n        res = chatbot_response(msg)\\n        ChatLog.insert(END, \"Bot: \" + res + \\'\\n\\n\\')\\n            \\n        ChatLog.config(state=DISABLED)\\n        ChatLog.yview(END)\\n\\nbase = Tk()\\nbase.title(\"Hello\")\\nbase.geometry(\"400x500\")\\nbase.resizable(width=FALSE, height=FALSE)\\n\\n#Create Chat window\\nChatLog = Text(base, bd=0, bg=\"white\", height=\"8\", width=\"50\", font=\"Arial\",)\\n\\nChatLog.config(state=DISABLED)\\n\\nchatlogs()\\n\\n#Bind scrollbar to Chat window\\nscrollbar = Scrollbar(base, command=ChatLog.yview, cursor=\"heart\")\\nChatLog[\\'yscrollcommand\\'] = scrollbar.set\\n\\n#Create the box to enter message\\nEntryBox = Text(base, bd=0, bg=\"white\",width=\"29\", height=\"10\", font=\"Arial\")\\n#EntryBox.bind(\"<Return>\", send)\\n\\n#Create Button to send message\\nSendButton = Button(base, font=(\"Verdana\",12,\\'bold\\'), text=\"Send\", width=\"12\", height=5,\\n                    bd=0, bg=\"#32de97\", activebackground=\"#3c9d9b\",fg=\\'#ffffff\\',\\n                    command= send )\\n\\n#Place all components on the screen\\nscrollbar.place(x=376,y=6, height=386)\\nChatLog.place(x=6,y=6, height=386, width=370)\\nEntryBox.place(x=6, y=401, height=90, width=265)\\nSendButton.place(x=268, y=401, height=90)\\n\\nbase.mainloop()\\n\\n\\n'"
      ]
     },
     "execution_count": 10,
     "metadata": {},
     "output_type": "execute_result"
    }
   ],
   "source": [
    "'''\n",
    "import tkinter\n",
    "from tkinter import *\n",
    "\n",
    "def chatlogs():\n",
    "    ChatLog.config(state=NORMAL)\n",
    "    ChatLog.insert(END, \"Bot: Hi. I am Chatbot. Your Health care Partner. Ask What u want to know.\\n\\n\")\n",
    "    ChatLog.config(state=DISABLED)\n",
    "    ChatLog.yview(END)\n",
    "\n",
    "\n",
    "def send():\n",
    "    msg = EntryBox.get(\"1.0\",'end-1c').strip()\n",
    "    EntryBox.delete(\"0.0\",END)\n",
    "\n",
    "    if msg != '':\n",
    "        ChatLog.config(state=NORMAL)\n",
    "        ChatLog.insert(END, \"You: \" + msg + '\\n\\n')\n",
    "        ChatLog.config(foreground=\"#442265\",font=(\"Verdana\", 12 ))\n",
    "    \n",
    "        res = chatbot_response(msg)\n",
    "        ChatLog.insert(END, \"Bot: \" + res + '\\n\\n')\n",
    "            \n",
    "        ChatLog.config(state=DISABLED)\n",
    "        ChatLog.yview(END)\n",
    "\n",
    "base = Tk()\n",
    "base.title(\"Hello\")\n",
    "base.geometry(\"400x500\")\n",
    "base.resizable(width=FALSE, height=FALSE)\n",
    "\n",
    "#Create Chat window\n",
    "ChatLog = Text(base, bd=0, bg=\"white\", height=\"8\", width=\"50\", font=\"Arial\",)\n",
    "\n",
    "ChatLog.config(state=DISABLED)\n",
    "\n",
    "chatlogs()\n",
    "\n",
    "#Bind scrollbar to Chat window\n",
    "scrollbar = Scrollbar(base, command=ChatLog.yview, cursor=\"heart\")\n",
    "ChatLog['yscrollcommand'] = scrollbar.set\n",
    "\n",
    "#Create the box to enter message\n",
    "EntryBox = Text(base, bd=0, bg=\"white\",width=\"29\", height=\"10\", font=\"Arial\")\n",
    "#EntryBox.bind(\"<Return>\", send)\n",
    "\n",
    "#Create Button to send message\n",
    "SendButton = Button(base, font=(\"Verdana\",12,'bold'), text=\"Send\", width=\"12\", height=5,\n",
    "                    bd=0, bg=\"#32de97\", activebackground=\"#3c9d9b\",fg='#ffffff',\n",
    "                    command= send )\n",
    "\n",
    "#Place all components on the screen\n",
    "scrollbar.place(x=376,y=6, height=386)\n",
    "ChatLog.place(x=6,y=6, height=386, width=370)\n",
    "EntryBox.place(x=6, y=401, height=90, width=265)\n",
    "SendButton.place(x=268, y=401, height=90)\n",
    "\n",
    "base.mainloop()\n",
    "\n",
    "\n",
    "'''\n"
   ]
  },
  {
   "cell_type": "code",
   "execution_count": 11,
   "metadata": {},
   "outputs": [
    {
     "data": {
      "text/plain": [
       "'\\nwhile True:\\n    msg = input(\"Enter dialog:\")\\n    if msg != \\'\\':\\n        res = chatbot_response(msg)\\n        print(res)\\n'"
      ]
     },
     "execution_count": 11,
     "metadata": {},
     "output_type": "execute_result"
    }
   ],
   "source": [
    "'''\n",
    "while True:\n",
    "    msg = input(\"Enter dialog:\")\n",
    "    if msg != '':\n",
    "        res = chatbot_response(msg)\n",
    "        print(res)\n",
    "'''\n"
   ]
  },
  {
   "cell_type": "code",
   "execution_count": 12,
   "metadata": {},
   "outputs": [
    {
     "data": {
      "text/plain": [
       "'  \\nfrom tkinter import *\\nimport webbrowser\\nwindow=Tk()\\n# add widgets here\\nwindow.title(\\'Chat Bot\\')\\nwindow.geometry(\"600x400+10+20\")\\n\\ndef go():\\n    loc = entry2.get()\\n    webbrowser.open_new(f\"https://www.google.com/maps/search/hospital+in+{loc}\")\\n    label2.pack_forget()\\n    entry2.pack_forget()\\n    b2.pack_forget()\\n\\ndef cmde(e):\\n    cmd()\\n\\ndef cmd():\\n    msg = entry1.get()\\n    if msg != \\'\\':\\n        res = chatbot_response(msg)\\n        entry1.delete(0,\"end\")\\n        label.configure(text=res)\\n    if res == \"Adverse drug\": \\n        webbrowser.open_new(\"https://www.aafp.org/pubs/afp/issues/2003/1101/p1781.html\")\\n    if res == \"hospital\" or res==\"pharmacy\":\\n        print(\"hi\")\\n        label2.pack()\\n        entry2.pack()\\n        b2.pack()\\n        \\n\\n        \\nlabel0 =Label(window,text=\"Welcome to\\nAutomated Health Care Assistant\",font = (\"Arial\", 20)).pack(padx=10,pady=20)\\nentry1 = Entry(window,width=60)\\nentry1.pack(padx=10,pady=10)\\nwindow.bind(\\'<Return>\\',cmde)\\nButton(window,text=\"Enter\",command=cmd).pack()\\nlabel = Label(window,text=\"\")\\nlabel.pack()\\nlabel2 = Label(window,text=\"Enter your location: \")\\nentry2 = Entry(window,width = 20)\\nb2 = Button(window,text=\"Enter\",command=go)\\nwindow.mainloop()\\n\\n\\n'"
      ]
     },
     "execution_count": 12,
     "metadata": {},
     "output_type": "execute_result"
    }
   ],
   "source": [
    "'''  \n",
    "from tkinter import *\n",
    "import webbrowser\n",
    "window=Tk()\n",
    "# add widgets here\n",
    "window.title('Chat Bot')\n",
    "window.geometry(\"600x400+10+20\")\n",
    "\n",
    "def go():\n",
    "    loc = entry2.get()\n",
    "    webbrowser.open_new(f\"https://www.google.com/maps/search/hospital+in+{loc}\")\n",
    "    label2.pack_forget()\n",
    "    entry2.pack_forget()\n",
    "    b2.pack_forget()\n",
    "\n",
    "def cmde(e):\n",
    "    cmd()\n",
    "\n",
    "def cmd():\n",
    "    msg = entry1.get()\n",
    "    if msg != '':\n",
    "        res = chatbot_response(msg)\n",
    "        entry1.delete(0,\"end\")\n",
    "        label.configure(text=res)\n",
    "    if res == \"Adverse drug\": \n",
    "        webbrowser.open_new(\"https://www.aafp.org/pubs/afp/issues/2003/1101/p1781.html\")\n",
    "    if res == \"hospital\" or res==\"pharmacy\":\n",
    "        print(\"hi\")\n",
    "        label2.pack()\n",
    "        entry2.pack()\n",
    "        b2.pack()\n",
    "        \n",
    "\n",
    "        \n",
    "label0 =Label(window,text=\"Welcome to\\nAutomated Health Care Assistant\",font = (\"Arial\", 20)).pack(padx=10,pady=20)\n",
    "entry1 = Entry(window,width=60)\n",
    "entry1.pack(padx=10,pady=10)\n",
    "window.bind('<Return>',cmde)\n",
    "Button(window,text=\"Enter\",command=cmd).pack()\n",
    "label = Label(window,text=\"\")\n",
    "label.pack()\n",
    "label2 = Label(window,text=\"Enter your location: \")\n",
    "entry2 = Entry(window,width = 20)\n",
    "b2 = Button(window,text=\"Enter\",command=go)\n",
    "window.mainloop()\n",
    "\n",
    "\n",
    "'''"
   ]
  },
  {
   "cell_type": "code",
   "execution_count": 13,
   "metadata": {},
   "outputs": [
    {
     "data": {
      "text/plain": [
       "'\\nimport webbrowser\\n\\nwhile True:\\n    msg = input(\"inter dialog: \")\\n    if msg != \\'\\':\\n        res = chatbot_response(msg)\\n        print(res)\\n        if res == \"Adverse drug\": \\n            webbrowser.open_new(\"https://www.aafp.org/pubs/afp/issues/2003/1101/p1781.html\")\\n        if res == \"hospital\":\\n            loc = input(\"enter city name: \")\\n            webbrowser.open_new(f\"https://www.google.com/maps/search/hospital+in+{loc}\")\\n        if res == \"pharmacy\":\\n            loc = input(\"enter city name: \")\\n            webbrowser.open_new(f\"https://www.google.com/maps/search/hospital+in+{loc}\")\\n'"
      ]
     },
     "execution_count": 13,
     "metadata": {},
     "output_type": "execute_result"
    }
   ],
   "source": [
    "\"\"\"\n",
    "import webbrowser\n",
    "\n",
    "while True:\n",
    "    msg = input(\"inter dialog: \")\n",
    "    if msg != '':\n",
    "        res = chatbot_response(msg)\n",
    "        print(res)\n",
    "        if res == \"Adverse drug\": \n",
    "            webbrowser.open_new(\"https://www.aafp.org/pubs/afp/issues/2003/1101/p1781.html\")\n",
    "        if res == \"hospital\":\n",
    "            loc = input(\"enter city name: \")\n",
    "            webbrowser.open_new(f\"https://www.google.com/maps/search/hospital+in+{loc}\")\n",
    "        if res == \"pharmacy\":\n",
    "            loc = input(\"enter city name: \")\n",
    "            webbrowser.open_new(f\"https://www.google.com/maps/search/hospital+in+{loc}\")\n",
    "\"\"\"\n"
   ]
  },
  {
   "cell_type": "code",
   "execution_count": null,
   "metadata": {},
   "outputs": [],
   "source": []
  },
  {
   "cell_type": "code",
   "execution_count": null,
   "metadata": {},
   "outputs": [],
   "source": []
  }
 ],
 "metadata": {
  "interpreter": {
   "hash": "2f19b1f994074a188b9c6a8a2351123e854df7afe0c85c913d25eae22f0e8fa1"
  },
  "kernelspec": {
   "display_name": "Python 3",
   "language": "python",
   "name": "python3"
  },
  "language_info": {
   "codemirror_mode": {
    "name": "ipython",
    "version": 3
   },
   "file_extension": ".py",
   "mimetype": "text/x-python",
   "name": "python",
   "nbconvert_exporter": "python",
   "pygments_lexer": "ipython3",
   "version": "3.8.3"
  }
 },
 "nbformat": 4,
 "nbformat_minor": 2
}
